{
 "cells": [
  {
   "cell_type": "code",
   "execution_count": 1,
   "metadata": {},
   "outputs": [],
   "source": [
    "import numpy as np\n",
    "import matplotlib.pyplot as plt\n",
    "import pandas as pd\n",
    "import scipy.stats as stats\n",
    "import scipy"
   ]
  },
  {
   "cell_type": "code",
   "execution_count": null,
   "metadata": {},
   "outputs": [],
   "source": [
    "# The Data\n",
    "data = pd.DataFrame({'x' : [6, 9, 17, 22, 7, 5, 5, 14, 9, 7, 9, 51],\n",
    "                    'y' : [5, 2, 0, 0, 2, 1, 0, 0, 0, 0, 13, 0],\n",
    "                    't' : [11, 11, 17, 22, 9, 6, 5, 14, 9, 7, 22, 51]})\n",
    "N = 12 # Numbers of patients\n",
    "# alpha <- 0\n",
    "# delta <- 0"
   ]
  },
  {
   "cell_type": "code",
   "execution_count": 21,
   "metadata": {},
   "outputs": [
    {
     "data": {
      "text/plain": [
       "0"
      ]
     },
     "execution_count": 21,
     "metadata": {},
     "output_type": "execute_result"
    }
   ],
   "source": [
    "stats.bernoulli.rvs(p = 0.5)"
   ]
  },
  {
   "cell_type": "code",
   "execution_count": null,
   "metadata": {},
   "outputs": [],
   "source": [
    "# J'ai fait n'importe quoi \n",
    "\n",
    "def heart(data, priors_parameters, init_chain, lambda_params, nchain) :\n",
    "\n",
    "    chain = np.zeros((3,nchain +1)) #theta, p\n",
    "    s = np.zeros((12, nchain+1)) # latent variable (state of a patient : cure/ not cure)\n",
    "    chain[0] = init_chain\n",
    "\n",
    "    x = data['x']\n",
    "    y = data['y']\n",
    "    t = data['t']\n",
    "\n",
    "    for t in range(nchain+1) :\n",
    "        current = chain[t]\n",
    "        theta = current[0]\n",
    "        p = current[1]\n",
    "        s_t = s[t]\n",
    "\n",
    "        # Udapte the latent variable\n",
    "        for i in range(12) :\n",
    "            if s_t[i]\n",
    "            \n",
    "        \n",
    "\n",
    "\n"
   ]
  }
 ],
 "metadata": {
  "kernelspec": {
   "display_name": "Python 3",
   "language": "python",
   "name": "python3"
  },
  "language_info": {
   "codemirror_mode": {
    "name": "ipython",
    "version": 3
   },
   "file_extension": ".py",
   "mimetype": "text/x-python",
   "name": "python",
   "nbconvert_exporter": "python",
   "pygments_lexer": "ipython3",
   "version": "3.12.5"
  }
 },
 "nbformat": 4,
 "nbformat_minor": 2
}
