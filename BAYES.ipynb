{
 "cells": [
  {
   "cell_type": "code",
   "execution_count": 1,
   "metadata": {},
   "outputs": [],
   "source": [
    "import numpy as np\n",
    "import matplotlib.pyplot as plt\n",
    "import pandas as pd\n",
    "import scipy.stats as stats\n",
    "import scipy"
   ]
  },
  {
   "cell_type": "code",
   "execution_count": null,
   "metadata": {},
   "outputs": [],
   "source": [
    "# The Data\n",
    "data = pd.DataFrame({'x' : [6, 9, 17, 22, 7, 5, 5, 14, 9, 7, 9, 51],\n",
    "                    'y' : [5, 2, 0, 0, 2, 1, 0, 0, 0, 0, 13, 0],\n",
    "                    't' : [11, 11, 17, 22, 9, 6, 5, 14, 9, 7, 22, 51]})\n",
    "N = 12 # Numbers of patients\n",
    "# alpha <- 0\n",
    "# delta <- 0"
   ]
  },
  {
   "cell_type": "code",
   "execution_count": 21,
   "metadata": {},
   "outputs": [
    {
     "data": {
      "text/plain": [
       "0"
      ]
     },
     "execution_count": 21,
     "metadata": {},
     "output_type": "execute_result"
    }
   ],
   "source": [
    "stats.bernoulli.rvs(p = 0.5)"
   ]
  },
  {
   "cell_type": "code",
   "execution_count": null,
   "metadata": {},
   "outputs": [],
   "source": [
    "# J'ai fait n'importe quoi \n",
    "\n",
    "def cond_law_theta(theta, N, x) :\n",
    "    first = theta**(N+np.sum(x))*(1-theta)**(N-np.sum(x))/(theta*(1-theta))\n",
    "    second = np.exp(-(np.log(theta/(1+theta)))**2/(2*10**(-4)))\n",
    "    return first*second\n",
    "\n",
    "def cond_law_p(p, y, t) :\n",
    "    first = p**(np.sum(y))*(1-p)**(np.sum(t-y))/(p*(1-p))\n",
    "    second = np.exp(-(np.log(p/(1+p)))**2/(2*10**(-4)))\n",
    "    return first*second\n",
    "\n",
    "def heart(data, priors_parameters, init_chain, prop_sd, nchain) :\n",
    "\n",
    "    chain = np.zeros((3,nchain +1)) #theta, p\n",
    "    s = np.zeros((12, nchain+1)) # latent variable (state of a patient : cure/ not cure)\n",
    "    chain[0] = init_chain\n",
    "\n",
    "    x = data['x']\n",
    "    y = data['y']\n",
    "    t = data['t']\n",
    "    N = 12\n",
    "\n",
    "    for idx in range(nchain+1) :\n",
    "        current = chain[idx]\n",
    "        theta = current[0]\n",
    "        p = current[1]\n",
    "        s_t = s[idx]\n",
    "\n",
    "        # Udapte the latent variable\n",
    "        for i in range(12) :\n",
    "            if s_t[i]\n",
    "        \n",
    "        s[idx +1] = s_t\n",
    "            \n",
    "        # Udapte theta with MH\n",
    "        prop_theta = np.random.normal(loc = 0, scale = prop_sd[0])\n",
    "        z = theta + prop_theta\n",
    "        ratio  = cond_law_theta(z, N, x) / cond_law_theta(theta, N, x)\n",
    "        u = np.random.uniform()\n",
    "        if u < ratio : \n",
    "            theta = z\n",
    "\n",
    "        # Udapte p with MH\n",
    "        prop_p = np.random.normal(loc = 0, scale = prop_sd[1])\n",
    "        z = p + prop_p\n",
    "        ratio = cond_law_p(z, y, t) / cond_law_p(p, y, t)\n",
    "        u = np.random.uniform()\n",
    "        if u < ratio : \n",
    "            p = z\n",
    "\n",
    "        chain[idx +1] = [theta, p]\n",
    "\n",
    "\n",
    "\n",
    "        \n",
    "\n",
    "\n"
   ]
  }
 ],
 "metadata": {
  "kernelspec": {
   "display_name": "Python 3",
   "language": "python",
   "name": "python3"
  },
  "language_info": {
   "codemirror_mode": {
    "name": "ipython",
    "version": 3
   },
   "file_extension": ".py",
   "mimetype": "text/x-python",
   "name": "python",
   "nbconvert_exporter": "python",
   "pygments_lexer": "ipython3",
   "version": "3.12.5"
  }
 },
 "nbformat": 4,
 "nbformat_minor": 2
}
