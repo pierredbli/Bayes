{
 "cells": [
  {
   "cell_type": "code",
   "execution_count": null,
   "metadata": {},
   "outputs": [],
   "source": [
    "import numpy as np\n",
    "import matplotlib.pyplot as plt\n",
    "import pandas as pd\n",
    "import scipy.stats as stats\n",
    "import scipy"
   ]
  },
  {
   "cell_type": "code",
   "execution_count": null,
   "metadata": {},
   "outputs": [],
   "source": [
    "# The Data\n",
    "data = pd.DataFrame({'x' : [6, 9, 17, 22, 7, 5, 5, 14, 9, 7, 9, 51],\n",
    "                    'y' : [5, 2, 0, 0, 2, 1, 0, 0, 0, 0, 13, 0],\n",
    "                    't' : [11, 11, 17, 22, 9, 6, 5, 14, 9, 7, 22, 51]})\n",
    "N = 12 # Numbers of patients\n",
    "# alpha <- 0\n",
    "# delta <- 0"
   ]
  },
  {
   "cell_type": "code",
   "execution_count": 21,
   "metadata": {},
   "outputs": [
    {
     "data": {
      "text/plain": [
       "0"
      ]
     },
     "execution_count": 21,
     "metadata": {},
     "output_type": "execute_result"
    }
   ],
   "source": [
    "stats.bernoulli.rvs(p = 0.5)"
   ]
  },
  {
   "cell_type": "code",
   "execution_count": null,
   "metadata": {},
   "outputs": [],
   "source": [
    "\n",
    "def heart(data, priors_parameters, init_chain, lambda_params, nchain) :\n",
    "\n",
    "    chain = np.zeros((3,nchain +1)) #theta, beta, p\n",
    "    z = np.zeros((12, nchain+1)) # latent variable (state of a patient : cure/ not cure)\n",
    "    chain[0] = init_chain\n",
    "\n",
    "    x = data['x']\n",
    "    y = data['y']\n",
    "    t = data['t']\n",
    "\n",
    "    for t in range(nchain+1) :\n",
    "        current = chain[t]\n",
    "        theta = current[0]\n",
    "        beta = current[1]\n",
    "        p = current[2]\n",
    "\n",
    "        # Udapte the latent variable\n",
    "        for i in range(12) :\n",
    "            lambda_i = stats.gamma.rvs(loc = lambda_params[0] + x[i] + y[i], scale = lambda_params[1])\n",
    "            q = theta / ( theta + (1-theta)*((beta*lambda_i)**y[i])*np.exp(-beta*lambda_i)/scipy.special.factorial(y[i]))\n",
    "            z[t][i] = stats.bernoulli.rvs(p = q)\n",
    "\n",
    "        # Udapte of theta\n",
    "        alpha_theta = priors_parameters[0] + np.sum(z[t])\n",
    "        beta_theta = priors_parameters[1] + 12 - np.sum(z[t])\n",
    "        theta = stats.beta.rvs(alpha_theta, beta_theta)\n",
    "\n",
    "        # Udapte of beta\n",
    "\n",
    "        # Udapte of p\n",
    "\n",
    "        \n",
    "\n"
   ]
  }
 ],
 "metadata": {
  "kernelspec": {
   "display_name": "Python 3",
   "language": "python",
   "name": "python3"
  },
  "language_info": {
   "codemirror_mode": {
    "name": "ipython",
    "version": 3
   },
   "file_extension": ".py",
   "mimetype": "text/x-python",
   "name": "python",
   "nbconvert_exporter": "python",
   "pygments_lexer": "ipython3",
   "version": "3.12.5"
  }
 },
 "nbformat": 4,
 "nbformat_minor": 2
}
